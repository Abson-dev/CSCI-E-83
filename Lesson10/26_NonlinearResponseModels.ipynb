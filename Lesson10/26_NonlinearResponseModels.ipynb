{
 "cells": [
  {
   "cell_type": "markdown",
   "metadata": {},
   "source": [
    "# Chapter 26 - Nonlinear Regression Models\n",
    "\n",
    "### Steve Elston\n",
    "\n",
    "Up to now, we have only worked with Normally distributed **numeric response variables**. However, **nonlinear response variables** are extremely common. For example, **categorical responses** and responses of counts from **point processes** .     \n",
    "\n",
    "In this notebook you will be introduced to working with models with nonlinear response variable. Specifically, you will work with the **generalized linear model (GLM)**. The GLM transforms a nonlinear response to a linear, or Normally distributed response using a **link function**. Link functions exist for any response distribution which can be written in exponential form.        \n",
    "\n",
    "We solve the nonlinear problem by creating a solution to a linear model. The nonlinear response is then computed using the **inverse link function**.       "
   ]
  },
  {
   "cell_type": "markdown",
   "metadata": {},
   "source": [
    "## Preparing the Data Set\n",
    "\n",
    "In this section we will prepare the data set used in this notebook. These data were compiled from credit data for German bank customers, and are from the [University of California Irvine Machine Learning Repository](https://archive.ics.uci.edu/ml/datasets/statlog+(german+credit+data). The objective is to build a model to predict customer credit quality, [good,bad], using the variable provided. This is a notoriously difficult problem.    \n",
    "\n",
    "> **Exercise 26-1:** The data sampled is based on the outcome of customers fulfilling their repayment obligations on loans. However, as is typically the case, we have no information on how perspective customers turned down for loads would have performed, which are **unobservable**. Write a few sentences discussing how any model fitted with these data could lead to biased credit decisions.    \n",
    "\n",
    "As a first step, execute the code in the cell below to import the required packages."
   ]
  },
  {
   "cell_type": "code",
   "execution_count": 1,
   "metadata": {},
   "outputs": [],
   "source": [
    "import pandas as pd\n",
    "import numpy as np\n",
    "import numpy.random as nr\n",
    "import statsmodels.api as sm\n",
    "import statsmodels.formula.api as smf\n",
    "import scipy.stats as ss\n",
    "import seaborn as sns\n",
    "import matplotlib.pyplot as plt\n",
    "from sklearn.preprocessing import normalize\n",
    "import sklearn.metrics as sklm\n",
    "from patsy import dmatrices\n",
    "\n",
    "%matplotlib inline"
   ]
  },
  {
   "cell_type": "markdown",
   "metadata": {},
   "source": [
    "Execute the cell below to display the dimensions of the data frame and display the data types of the columns. "
   ]
  },
  {
   "cell_type": "code",
   "execution_count": 2,
   "metadata": {},
   "outputs": [
    {
     "name": "stdout",
     "output_type": "stream",
     "text": [
      "(1000, 22)\n"
     ]
    },
    {
     "data": {
      "text/plain": [
       "customer_id                  int64\n",
       "checking_account_status     object\n",
       "loan_duration_mo             int64\n",
       "credit_history              object\n",
       "purpose                     object\n",
       "loan_amount                  int64\n",
       "savings_account_balance     object\n",
       "time_employed_yrs           object\n",
       "payment_pcnt_income          int64\n",
       "gender_status               object\n",
       "other_signators             object\n",
       "time_in_residence            int64\n",
       "property                    object\n",
       "age_yrs                      int64\n",
       "other_credit_outstanding    object\n",
       "home_ownership              object\n",
       "number_loans                 int64\n",
       "job_category                object\n",
       "dependents                   int64\n",
       "telephone                   object\n",
       "foreign_worker              object\n",
       "bad_credit                   int64\n",
       "dtype: object"
      ]
     },
     "execution_count": 2,
     "metadata": {},
     "output_type": "execute_result"
    }
   ],
   "source": [
    "credit_data = pd.read_csv('../data/German_Credit_Clean.csv')\n",
    "print(credit_data.shape)\n",
    "credit_data.dtypes"
   ]
  },
  {
   "cell_type": "markdown",
   "metadata": {},
   "source": [
    "There are a number of numeric and categorical predictor variables. The label is binary with values $[0,1]$, of type 'int64'. We will discuss the properties of this label further shortly.  \n",
    "\n",
    "One difficulty with this data set is that there is an **imbalance** between the negative cases and the positive cases."
   ]
  },
  {
   "cell_type": "code",
   "execution_count": 3,
   "metadata": {},
   "outputs": [
    {
     "data": {
      "text/plain": [
       "300"
      ]
     },
     "execution_count": 3,
     "metadata": {},
     "output_type": "execute_result"
    }
   ],
   "source": [
    "np.sum(credit_data.loc[:,'bad_credit'])"
   ]
  },
  {
   "cell_type": "markdown",
   "metadata": {},
   "source": [
    "THe number of positive cases is only 30% of all cases. This imbalance will bias the training of any model toward the negative cases.\n",
    "\n",
    "Now, we will prepare training and test data sets with normalized numeric features (predictor variables). Execute this code to create Bernoulli sampled training and test data sets. "
   ]
  },
  {
   "cell_type": "code",
   "execution_count": 4,
   "metadata": {},
   "outputs": [],
   "source": [
    "num_cols = ['loan_duration_mo','loan_amount','payment_pcnt_income','age_yrs']\n",
    "credit_data.loc[:,num_cols] = normalize(credit_data.loc[:,num_cols])\n",
    "\n",
    "## Create a mask and use it to split the data into a train and test set   \n",
    "nr.seed(6665)\n",
    "mask = nr.choice(credit_data.index, size = 600, replace=False)\n",
    "credit_data_train = credit_data.iloc[mask,:]\n",
    "credit_data_test = credit_data.drop(mask, axis=0) "
   ]
  },
  {
   "cell_type": "markdown",
   "metadata": {},
   "source": [
    "## Logistic Regression\n",
    "\n",
    "Until now, we have been working strictly with linear regression models. Linear regression models have a numeric label. Further, ordinary linear regression assumes the label values are Normally distributed. \n",
    "\n",
    "But, what if the label has another distribution, particularly if the label is categorical? Using a more general form for the label values leads us to the **generalized linear model**. Generalized linear model can use a number of distributions for the label .   \n",
    "\n",
    "Here, we will look at a widely used variation of the generalized linear model using a **Binomial distribution**. This method is commonly known as **logistic regression**.\n",
    "\n",
    "Logistic regression is widely used as a classification model. Logistic regression is linear model, with a binary response or label values, `{False, True}` or `{0, 1}`.  specifically, the response is computed as a log likelihood, leading to a Binomial distribution of the label values. \n",
    "\n",
    "The response of the linear model is transformed to the log likelihood using a sigmoidal function, also know as the **logistic function** or **logit**:\n",
    "\n",
    "$$f(x) = \\frac{1}{1 + e^{-\\kappa(x - x_0)}} \\\\\n",
    "\\kappa = steepness$$\n",
    "\n",
    "Execute the code in the cell below to compute and plot an example of the logistic function."
   ]
  },
  {
   "cell_type": "code",
   "execution_count": 5,
   "metadata": {},
   "outputs": [
    {
     "data": {
      "image/png": "[encoded data removed]",
      "text/plain": [
       "<Figure size 432x288 with 1 Axes>"
      ]
     },
     "metadata": {
      "needs_background": "light"
     },
     "output_type": "display_data"
    }
   ],
   "source": [
    "# Plot the logistic transformation function (f(x) above)\n",
    "x_seq = np.linspace(-7, 7, 100)\n",
    "\n",
    "def log_fun(x, center=0, scale=1):\n",
    "    e = np.exp(scale*(center-x))\n",
    "    log_out = 1./(1. + e)\n",
    "    return log_out\n",
    "\n",
    "log_fun_vectorized = np.vectorize(log_fun)\n",
    "\n",
    "log_y = log_fun_vectorized(x_seq)\n",
    "\n",
    "plt.plot(x_seq, log_y)\n",
    "plt.title('Standard Logistic Function')\n",
    "plt.xlabel('x')\n",
    "plt.ylabel('Probability')\n",
    "plt.grid()"
   ]
  },
  {
   "cell_type": "markdown",
   "metadata": {},
   "source": [
    "Let's make this a bit more concrete with a simple example. Say we have a linear model:\n",
    "\n",
    "$$\\hat{y} = \\beta_0 + \\beta_1\\ x$$\n",
    "\n",
    "Now, depending on the value of $\\hat{y}$ we want to classify the output from a logistic regression model as either `0` or `1`. We can use the linear model in the logistic function as follows:\n",
    "\n",
    "$$F(\\hat{y}) = \\frac{1}{1 + e^{-\\kappa(\\beta_0 + \\beta_1\\ x)}} $$\n",
    "\n",
    "In this way we transform the continious output of the linear model defined on $-\\infty \\le \\hat{y} \\le \\infty$ to a binary response, $0 \\le F(\\hat{y}) \\le 1$\n",
    "\n",
    "The aforementioned function maps the output of a linear model to the response values of the label. This function is known as the **link function**, since it links the linear response to the label values.  "
   ]
  },
  {
   "cell_type": "markdown",
   "metadata": {},
   "source": [
    "### What is Deviance?\n",
    "\n",
    "The significance of the GLM is expressed in terms of something called **deviance**. It can be a bit of a challenge to wrap your head around what deviance really means. It turns out that you already know one form of deviance. The familiar mean squared error of a model with Normally distributed residuals is the deviance of this model.  \n",
    "\n",
    "For the model above the residuals would be Binomially distributed. We need a more general formulation of deviance for such a model. For a model with label vector $y$, predictions$\\hat{\\mu}$, and estimated model parameters, $\\hat{\\theta}$ the general form of deviance can be written:\n",
    "\n",
    "\\begin{align}\n",
    "D(y,\\hat{\\mu}) &= 2 \\Big( log \\big( p(y | \\hat{\\theta}_{S}) \\big) - log \\big( p(y | \\hat{\\theta}_{0}) \\big) \\Big) \\\\\n",
    "&= 2 \\Big( \\mathcal{l}(y | \\hat{\\theta}_{S})  -  \\mathcal{l}(y | \\hat{\\theta}_{0})  \\Big)\n",
    "\\end{align}\n",
    "\n",
    "where,    \n",
    "- $\\mathcal{l}(y | \\hat{\\theta}) \\big)$ is the log likelihood of a model with estimated parameters, $\\hat{\\theta}$, given labels $y$.    \n",
    "- $\\hat{\\theta}_{S}$ are the estimated parameters of a **saturated**; a hypothetical model, $M_S$, with a parameter for each observation, and therefore having the best possible fit to the training data.   \n",
    "- $\\hat{\\theta}_{0}$ are the actual estimated parameters of the model, $M_0$, that we wish to evaluate.   \n",
    "\n",
    "This all seems rather abstract. In particular, what use is this hypothetical saturated model? \n",
    "\n",
    "Fortunately, we can use the **deviance ratio** to compare models in a form we can actually work with. The trick is to recognize that the log likelihood of the saturated model, $\\mathcal{l}(y | \\hat{\\theta}_{0})$, is just a constant. With this insight we can rewrite the deviance as:\n",
    "\n",
    "$$D(y,\\hat{\\mu}) = Constant + 2 \\mathcal{l}(y | \\hat{\\theta}_{0})$$\n",
    "\n",
    "This looks a bit better! Now we can work with the deviance ratio to compare two models, $M_1$ and $M_0$:   \n",
    "\n",
    "\\begin{align}\n",
    "D(\\hat{\\theta}_1,\\hat{\\theta}_0) &= \\frac{Constant + 2 \\mathcal{l}(y | \\hat{\\theta}_{0})}{Constant + 2 \\mathcal{l}(y | \\hat{\\theta}_{1})} \\\\ \n",
    "&= Constant + 2 \\mathcal{l}(y | \\hat{\\theta}_{0}) - Constant - 2 \\mathcal{l}(y | \\hat{\\theta}_{1}) \\\\\n",
    "&= 2 \\mathcal{l}(y | \\hat{\\theta}_{0}) - 2 \\mathcal{l}(y | \\hat{\\theta}_{1})\n",
    "\\end{align}\n",
    "\n",
    "Which model should we use as a comparison in the above relation? The **null model** is a good choice. The null model is just a model that makes predictions based on the expected value of mean. This formulation is called the **null deviance**, and is what is typically displayed by most statistical software packages, including statsmodels. Unfortunately, this quantity is usually just called, deviance, even when it is actually null deviance, something rather different.   \n",
    "\n",
    "A nice property of null deviance is that for large number of samples (approaching infinity), it is Chi Squared distributed. Thus, we can test the statistical significance of the model against the null model using the Chi Squared test. Since the derivation of this test depends on something called Wilk's theorem, this is often referred to as **Wilk's test**. \n",
    "\n",
    "The null deviance is also useful for comparing models. If you have two models and want to know which is better, pick the one with the maximum null deviance.  "
   ]
  },
  {
   "cell_type": "markdown",
   "metadata": {},
   "source": [
    "## Classification Example\n",
    "\n",
    "To make these concepts concrete we will now build and test a classification model with Binomial response. To understand the features and labels of this model it will be useful to look at the model matrix and the label column. Execute the code in the cell below to display the head of the label array and the model matrix. "
   ]
  },
  {
   "cell_type": "code",
   "execution_count": 6,
   "metadata": {},
   "outputs": [
    {
     "name": "stdout",
     "output_type": "stream",
     "text": [
      "[[1.]\n",
      " [0.]\n",
      " [0.]\n",
      " [0.]\n",
      " [0.]]\n",
      "[[1.00000000e+00 0.00000000e+00 1.00000000e+00 0.00000000e+00\n",
      "  0.00000000e+00 1.00000000e+00 0.00000000e+00 0.00000000e+00\n",
      "  0.00000000e+00 0.00000000e+00 0.00000000e+00 0.00000000e+00\n",
      "  0.00000000e+00 0.00000000e+00 0.00000000e+00 0.00000000e+00\n",
      "  1.00000000e+00 0.00000000e+00 0.00000000e+00 1.00000000e+00\n",
      "  0.00000000e+00 0.00000000e+00 0.00000000e+00 0.00000000e+00\n",
      "  0.00000000e+00 1.00000000e+00 0.00000000e+00 0.00000000e+00\n",
      "  0.00000000e+00 6.18296711e-03 5.15247259e-04 5.41009622e-03]\n",
      " [1.00000000e+00 0.00000000e+00 1.00000000e+00 0.00000000e+00\n",
      "  0.00000000e+00 0.00000000e+00 0.00000000e+00 0.00000000e+00\n",
      "  0.00000000e+00 1.00000000e+00 0.00000000e+00 0.00000000e+00\n",
      "  0.00000000e+00 0.00000000e+00 0.00000000e+00 0.00000000e+00\n",
      "  1.00000000e+00 0.00000000e+00 0.00000000e+00 0.00000000e+00\n",
      "  0.00000000e+00 1.00000000e+00 0.00000000e+00 1.00000000e+00\n",
      "  0.00000000e+00 0.00000000e+00 1.00000000e+00 0.00000000e+00\n",
      "  0.00000000e+00 2.01465451e-03 3.35775751e-04 1.07448240e-02]]\n"
     ]
    }
   ],
   "source": [
    "formula = 'bad_credit ~ C(credit_history) + C(purpose) + C(gender_status) + C(time_employed_yrs) +C(other_credit_outstanding)\\\n",
    "           + C(property) + C(job_category) + loan_duration_mo + payment_pcnt_income + age_yrs'\n",
    "Y, X = dmatrices(formula, data=credit_data_train)\n",
    "print(Y[:5])\n",
    "print(X[:2])"
   ]
  },
  {
   "cell_type": "markdown",
   "metadata": {},
   "source": [
    "The label array is binary with values $[0,1$. This response is must be Binomially distributed making this a nonlinear response problem.  \n",
    "\n",
    "The feature (design) matrix is not surprising. The first column contains the intercept term of all 1s. The categorical feature columns are all one-hot encoded. The last three columns are the normalized values of the numeric features. \n",
    "\n",
    "The statsmodels [GLM](https://www.statsmodels.org/stable/examples/notebooks/generated/glm.html) function implements the [generalize linear model](https://www.statsmodels.org/stable/glm.html#families) for a number of response distributions. The code in the cell below uses the Binomial family as the distribution of the label. Execute this code and examine the model summary. "
   ]
  },
  {
   "cell_type": "code",
   "execution_count": 7,
   "metadata": {},
   "outputs": [
    {
     "data": {
      "text/html": [
       "<table class=\"simpletable\">\n",
       "<caption>Generalized Linear Model Regression Results</caption>\n",
       "<tr>\n",
       "  <th>Dep. Variable:</th>      <td>bad_credit</td>    <th>  No. Observations:  </th>  <td>   600</td> \n",
       "</tr>\n",
       "<tr>\n",
       "  <th>Model:</th>                  <td>GLM</td>       <th>  Df Residuals:      </th>  <td>   568</td> \n",
       "</tr>\n",
       "<tr>\n",
       "  <th>Model Family:</th>        <td>Binomial</td>     <th>  Df Model:          </th>  <td>    31</td> \n",
       "</tr>\n",
       "<tr>\n",
       "  <th>Link Function:</th>         <td>logit</td>      <th>  Scale:             </th> <td>  1.0000</td>\n",
       "</tr>\n",
       "<tr>\n",
       "  <th>Method:</th>                <td>IRLS</td>       <th>  Log-Likelihood:    </th> <td> -294.08</td>\n",
       "</tr>\n",
       "<tr>\n",
       "  <th>Date:</th>            <td>Tue, 06 Apr 2021</td> <th>  Deviance:          </th> <td>  588.16</td>\n",
       "</tr>\n",
       "<tr>\n",
       "  <th>Time:</th>                <td>08:14:12</td>     <th>  Pearson chi2:      </th>  <td>  579.</td> \n",
       "</tr>\n",
       "<tr>\n",
       "  <th>No. Iterations:</th>         <td>21</td>        <th>                     </th>     <td> </td>   \n",
       "</tr>\n",
       "<tr>\n",
       "  <th>Covariance Type:</th>     <td>nonrobust</td>    <th>                     </th>     <td> </td>   \n",
       "</tr>\n",
       "</table>\n",
       "<table class=\"simpletable\">\n",
       "<tr>\n",
       "                                <td></td>                                  <th>coef</th>     <th>std err</th>      <th>z</th>      <th>P>|z|</th>  <th>[0.025</th>    <th>0.975]</th>  \n",
       "</tr>\n",
       "<tr>\n",
       "  <th>Intercept</th>                                                    <td>    0.5382</td> <td>    0.708</td> <td>    0.760</td> <td> 0.447</td> <td>   -0.850</td> <td>    1.927</td>\n",
       "</tr>\n",
       "<tr>\n",
       "  <th>C(credit_history)[T.critical account - other non-bank loans]</th> <td>   -1.7193</td> <td>    0.491</td> <td>   -3.504</td> <td> 0.000</td> <td>   -2.681</td> <td>   -0.758</td>\n",
       "</tr>\n",
       "<tr>\n",
       "  <th>C(credit_history)[T.current loans paid]</th>                      <td>   -1.0366</td> <td>    0.459</td> <td>   -2.258</td> <td> 0.024</td> <td>   -1.936</td> <td>   -0.137</td>\n",
       "</tr>\n",
       "<tr>\n",
       "  <th>C(credit_history)[T.no credit - paid]</th>                        <td>    0.0742</td> <td>    0.628</td> <td>    0.118</td> <td> 0.906</td> <td>   -1.157</td> <td>    1.305</td>\n",
       "</tr>\n",
       "<tr>\n",
       "  <th>C(credit_history)[T.past payment delays]</th>                     <td>   -0.8146</td> <td>    0.548</td> <td>   -1.486</td> <td> 0.137</td> <td>   -1.889</td> <td>    0.260</td>\n",
       "</tr>\n",
       "<tr>\n",
       "  <th>C(purpose)[T.car (new)]</th>                                      <td>    0.8500</td> <td>    0.382</td> <td>    2.225</td> <td> 0.026</td> <td>    0.101</td> <td>    1.599</td>\n",
       "</tr>\n",
       "<tr>\n",
       "  <th>C(purpose)[T.car (used)]</th>                                     <td>   -1.2402</td> <td>    0.541</td> <td>   -2.295</td> <td> 0.022</td> <td>   -2.300</td> <td>   -0.181</td>\n",
       "</tr>\n",
       "<tr>\n",
       "  <th>C(purpose)[T.domestic appliances]</th>                            <td>    1.4218</td> <td>    1.070</td> <td>    1.329</td> <td> 0.184</td> <td>   -0.674</td> <td>    3.518</td>\n",
       "</tr>\n",
       "<tr>\n",
       "  <th>C(purpose)[T.education]</th>                                      <td>    0.7562</td> <td>    0.511</td> <td>    1.481</td> <td> 0.139</td> <td>   -0.245</td> <td>    1.757</td>\n",
       "</tr>\n",
       "<tr>\n",
       "  <th>C(purpose)[T.furniture/equipment]</th>                            <td>    0.5529</td> <td>    0.399</td> <td>    1.384</td> <td> 0.166</td> <td>   -0.230</td> <td>    1.336</td>\n",
       "</tr>\n",
       "<tr>\n",
       "  <th>C(purpose)[T.other]</th>                                          <td>    0.4462</td> <td>    1.033</td> <td>    0.432</td> <td> 0.666</td> <td>   -1.579</td> <td>    2.472</td>\n",
       "</tr>\n",
       "<tr>\n",
       "  <th>C(purpose)[T.radio/television]</th>                               <td>   -0.3309</td> <td>    0.399</td> <td>   -0.830</td> <td> 0.406</td> <td>   -1.112</td> <td>    0.450</td>\n",
       "</tr>\n",
       "<tr>\n",
       "  <th>C(purpose)[T.repairs]</th>                                        <td>   -0.1328</td> <td>    0.818</td> <td>   -0.162</td> <td> 0.871</td> <td>   -1.735</td> <td>    1.470</td>\n",
       "</tr>\n",
       "<tr>\n",
       "  <th>C(purpose)[T.retraining]</th>                                     <td>  -21.0915</td> <td> 1.62e+04</td> <td>   -0.001</td> <td> 0.999</td> <td>-3.18e+04</td> <td> 3.18e+04</td>\n",
       "</tr>\n",
       "<tr>\n",
       "  <th>C(gender_status)[T.male-divorced/separated]</th>                  <td>    0.5609</td> <td>    0.461</td> <td>    1.218</td> <td> 0.223</td> <td>   -0.342</td> <td>    1.464</td>\n",
       "</tr>\n",
       "<tr>\n",
       "  <th>C(gender_status)[T.male-married/widowed]</th>                     <td>   -0.1523</td> <td>    0.382</td> <td>   -0.399</td> <td> 0.690</td> <td>   -0.901</td> <td>    0.596</td>\n",
       "</tr>\n",
       "<tr>\n",
       "  <th>C(gender_status)[T.male-single]</th>                              <td>   -0.3754</td> <td>    0.241</td> <td>   -1.559</td> <td> 0.119</td> <td>   -0.847</td> <td>    0.096</td>\n",
       "</tr>\n",
       "<tr>\n",
       "  <th>C(time_employed_yrs)[T.4 - 7 years]</th>                          <td>   -0.4696</td> <td>    0.330</td> <td>   -1.425</td> <td> 0.154</td> <td>   -1.115</td> <td>    0.176</td>\n",
       "</tr>\n",
       "<tr>\n",
       "  <th>C(time_employed_yrs)[T.< 1 year]</th>                             <td>    0.2898</td> <td>    0.284</td> <td>    1.020</td> <td> 0.308</td> <td>   -0.267</td> <td>    0.847</td>\n",
       "</tr>\n",
       "<tr>\n",
       "  <th>C(time_employed_yrs)[T.>= 7 years]</th>                           <td>    0.0927</td> <td>    0.295</td> <td>    0.314</td> <td> 0.754</td> <td>   -0.486</td> <td>    0.672</td>\n",
       "</tr>\n",
       "<tr>\n",
       "  <th>C(time_employed_yrs)[T.unemployed]</th>                           <td>    0.5514</td> <td>    0.529</td> <td>    1.043</td> <td> 0.297</td> <td>   -0.485</td> <td>    1.587</td>\n",
       "</tr>\n",
       "<tr>\n",
       "  <th>C(other_credit_outstanding)[T.none]</th>                          <td>   -0.3707</td> <td>    0.296</td> <td>   -1.253</td> <td> 0.210</td> <td>   -0.950</td> <td>    0.209</td>\n",
       "</tr>\n",
       "<tr>\n",
       "  <th>C(other_credit_outstanding)[T.stores]</th>                        <td>   -0.1872</td> <td>    0.535</td> <td>   -0.350</td> <td> 0.726</td> <td>   -1.236</td> <td>    0.861</td>\n",
       "</tr>\n",
       "<tr>\n",
       "  <th>C(property)[T.car or other]</th>                                  <td>    0.3283</td> <td>    0.288</td> <td>    1.141</td> <td> 0.254</td> <td>   -0.236</td> <td>    0.892</td>\n",
       "</tr>\n",
       "<tr>\n",
       "  <th>C(property)[T.real estate]</th>                                   <td>   -0.2509</td> <td>    0.316</td> <td>   -0.795</td> <td> 0.427</td> <td>   -0.870</td> <td>    0.368</td>\n",
       "</tr>\n",
       "<tr>\n",
       "  <th>C(property)[T.unknown-none]</th>                                  <td>    0.7937</td> <td>    0.343</td> <td>    2.312</td> <td> 0.021</td> <td>    0.121</td> <td>    1.467</td>\n",
       "</tr>\n",
       "<tr>\n",
       "  <th>C(job_category)[T.skilled]</th>                                   <td>   -0.5345</td> <td>    0.321</td> <td>   -1.664</td> <td> 0.096</td> <td>   -1.164</td> <td>    0.095</td>\n",
       "</tr>\n",
       "<tr>\n",
       "  <th>C(job_category)[T.unemployed-unskilled-non-resident]</th>         <td>   -1.1753</td> <td>    0.992</td> <td>   -1.185</td> <td> 0.236</td> <td>   -3.119</td> <td>    0.768</td>\n",
       "</tr>\n",
       "<tr>\n",
       "  <th>C(job_category)[T.unskilled-resident]</th>                        <td>   -0.0049</td> <td>    0.395</td> <td>   -0.012</td> <td> 0.990</td> <td>   -0.780</td> <td>    0.770</td>\n",
       "</tr>\n",
       "<tr>\n",
       "  <th>loan_duration_mo</th>                                             <td>   85.9196</td> <td>   29.368</td> <td>    2.926</td> <td> 0.003</td> <td>   28.359</td> <td>  143.480</td>\n",
       "</tr>\n",
       "<tr>\n",
       "  <th>payment_pcnt_income</th>                                          <td>  204.2287</td> <td>  133.969</td> <td>    1.524</td> <td> 0.127</td> <td>  -58.345</td> <td>  466.803</td>\n",
       "</tr>\n",
       "<tr>\n",
       "  <th>age_yrs</th>                                                      <td>  -59.5892</td> <td>   15.759</td> <td>   -3.781</td> <td> 0.000</td> <td>  -90.477</td> <td>  -28.702</td>\n",
       "</tr>\n",
       "</table>"
      ],
      "text/plain": [
       "<class 'statsmodels.iolib.summary.Summary'>\n",
       "\"\"\"\n",
       "                 Generalized Linear Model Regression Results                  \n",
       "==============================================================================\n",
       "Dep. Variable:             bad_credit   No. Observations:                  600\n",
       "Model:                            GLM   Df Residuals:                      568\n",
       "Model Family:                Binomial   Df Model:                           31\n",
       "Link Function:                  logit   Scale:                          1.0000\n",
       "Method:                          IRLS   Log-Likelihood:                -294.08\n",
       "Date:                Tue, 06 Apr 2021   Deviance:                       588.16\n",
       "Time:                        08:14:12   Pearson chi2:                     579.\n",
       "No. Iterations:                    21                                         \n",
       "Covariance Type:            nonrobust                                         \n",
       "================================================================================================================================\n",
       "                                                                   coef    std err          z      P>|z|      [0.025      0.975]\n",
       "--------------------------------------------------------------------------------------------------------------------------------\n",
       "Intercept                                                        0.5382      0.708      0.760      0.447      -0.850       1.927\n",
       "C(credit_history)[T.critical account - other non-bank loans]    -1.7193      0.491     -3.504      0.000      -2.681      -0.758\n",
       "C(credit_history)[T.current loans paid]                         -1.0366      0.459     -2.258      0.024      -1.936      -0.137\n",
       "C(credit_history)[T.no credit - paid]                            0.0742      0.628      0.118      0.906      -1.157       1.305\n",
       "C(credit_history)[T.past payment delays]                        -0.8146      0.548     -1.486      0.137      -1.889       0.260\n",
       "C(purpose)[T.car (new)]                                          0.8500      0.382      2.225      0.026       0.101       1.599\n",
       "C(purpose)[T.car (used)]                                        -1.2402      0.541     -2.295      0.022      -2.300      -0.181\n",
       "C(purpose)[T.domestic appliances]                                1.4218      1.070      1.329      0.184      -0.674       3.518\n",
       "C(purpose)[T.education]                                          0.7562      0.511      1.481      0.139      -0.245       1.757\n",
       "C(purpose)[T.furniture/equipment]                                0.5529      0.399      1.384      0.166      -0.230       1.336\n",
       "C(purpose)[T.other]                                              0.4462      1.033      0.432      0.666      -1.579       2.472\n",
       "C(purpose)[T.radio/television]                                  -0.3309      0.399     -0.830      0.406      -1.112       0.450\n",
       "C(purpose)[T.repairs]                                           -0.1328      0.818     -0.162      0.871      -1.735       1.470\n",
       "C(purpose)[T.retraining]                                       -21.0915   1.62e+04     -0.001      0.999   -3.18e+04    3.18e+04\n",
       "C(gender_status)[T.male-divorced/separated]                      0.5609      0.461      1.218      0.223      -0.342       1.464\n",
       "C(gender_status)[T.male-married/widowed]                        -0.1523      0.382     -0.399      0.690      -0.901       0.596\n",
       "C(gender_status)[T.male-single]                                 -0.3754      0.241     -1.559      0.119      -0.847       0.096\n",
       "C(time_employed_yrs)[T.4 - 7 years]                             -0.4696      0.330     -1.425      0.154      -1.115       0.176\n",
       "C(time_employed_yrs)[T.< 1 year]                                 0.2898      0.284      1.020      0.308      -0.267       0.847\n",
       "C(time_employed_yrs)[T.>= 7 years]                               0.0927      0.295      0.314      0.754      -0.486       0.672\n",
       "C(time_employed_yrs)[T.unemployed]                               0.5514      0.529      1.043      0.297      -0.485       1.587\n",
       "C(other_credit_outstanding)[T.none]                             -0.3707      0.296     -1.253      0.210      -0.950       0.209\n",
       "C(other_credit_outstanding)[T.stores]                           -0.1872      0.535     -0.350      0.726      -1.236       0.861\n",
       "C(property)[T.car or other]                                      0.3283      0.288      1.141      0.254      -0.236       0.892\n",
       "C(property)[T.real estate]                                      -0.2509      0.316     -0.795      0.427      -0.870       0.368\n",
       "C(property)[T.unknown-none]                                      0.7937      0.343      2.312      0.021       0.121       1.467\n",
       "C(job_category)[T.skilled]                                      -0.5345      0.321     -1.664      0.096      -1.164       0.095\n",
       "C(job_category)[T.unemployed-unskilled-non-resident]            -1.1753      0.992     -1.185      0.236      -3.119       0.768\n",
       "C(job_category)[T.unskilled-resident]                           -0.0049      0.395     -0.012      0.990      -0.780       0.770\n",
       "loan_duration_mo                                                85.9196     29.368      2.926      0.003      28.359     143.480\n",
       "payment_pcnt_income                                            204.2287    133.969      1.524      0.127     -58.345     466.803\n",
       "age_yrs                                                        -59.5892     15.759     -3.781      0.000     -90.477     -28.702\n",
       "================================================================================================================================\n",
       "\"\"\""
      ]
     },
     "execution_count": 7,
     "metadata": {},
     "output_type": "execute_result"
    }
   ],
   "source": [
    "nr.seed(4536)\n",
    "glm_model = smf.glm(formula, data=credit_data_train, family=sm.families.Binomial()).fit()\n",
    "glm_model.summary()"
   ]
  },
  {
   "cell_type": "markdown",
   "metadata": {},
   "source": [
    "Examine the summary of the model noticing the following:    \n",
    "- The distribution family of the label is Binomial as expected. \n",
    "- The **link function** is the logit. The link function transforms the results of the linear model to the label distribution. \n",
    "- The Pearson Chi Squared statistic shows that the model is significant compared to a null model based on the difference in deviance.   \n",
    "- The standard errors, confidence intervals and p-values show that most of the features are not significant. In other words, we cannot reject the null hypothesis that many of these coefficients have a value of 0.  "
   ]
  },
  {
   "cell_type": "markdown",
   "metadata": {},
   "source": [
    "### From Probability to Class\n",
    "\n",
    "The predictions from a generalized linear model are the inverse link function transformed values of the linear model. This output or response in in the from of the probability distribution chosen. For our example, the response is Binomially distributed. The probability of the response (1) is computed using the **logit function** as the transformation.     \n",
    "\n",
    "In order to generate binary predictions (good or bad credit), we need to decide on a cutoff value for the probability. The cutoff value separates the two cases. Probabilities below the cutoff are classified as the negative outcome (good credit). Probabilities above the cutoff are classified as the positive outcome (bad credit). In effect, applying a cutoff in this manner is a **one-sided hypothesis test**; can you reject the null case and find a positive case?     \n",
    "\n",
    "Commonly, we choose 0.5 as a cutoff.  But  this choice is arbitrary and we can set it to whatever probability we choose, give the problem at hand. If we have a model where False Positives are costly, we might decide to increase the cutoff, and vice-versa if False Negatives are more costly. As an example, cost to the bank from the loss from issuing a loan to a bad credit customer might well exceed the cost of not issuing a loan to a good credit customer. The later cost might include the cost of loss of business and the customer service costs of correcting the status of otherwise good customers. \n",
    "\n",
    "The code in the cell below does the following:    \n",
    "1. Computes the probabilities of the response variables using the `predict` method.      \n",
    "2. The probabilities are transformed from probabilities to the classes using the cutoff value.   \n",
    "3. A column with the classes of the label are created from the binary values.   \n",
    "\n",
    "Execute the code and example the results.  "
   ]
  },
  {
   "cell_type": "code",
   "execution_count": 8,
   "metadata": {},
   "outputs": [
    {
     "data": {
      "text/html": [
       "<div>\n",
       "<style scoped>\n",
       "    .dataframe tbody tr th:only-of-type {\n",
       "        vertical-align: middle;\n",
       "    }\n",
       "\n",
       "    .dataframe tbody tr th {\n",
       "        vertical-align: top;\n",
       "    }\n",
       "\n",
       "    .dataframe thead th {\n",
       "        text-align: right;\n",
       "    }\n",
       "</style>\n",
       "<table border=\"1\" class=\"dataframe\">\n",
       "  <thead>\n",
       "    <tr style=\"text-align: right;\">\n",
       "      <th></th>\n",
       "      <th>customer_id</th>\n",
       "      <th>checking_account_status</th>\n",
       "      <th>loan_duration_mo</th>\n",
       "      <th>credit_history</th>\n",
       "      <th>purpose</th>\n",
       "      <th>loan_amount</th>\n",
       "      <th>savings_account_balance</th>\n",
       "      <th>time_employed_yrs</th>\n",
       "      <th>payment_pcnt_income</th>\n",
       "      <th>gender_status</th>\n",
       "      <th>...</th>\n",
       "      <th>home_ownership</th>\n",
       "      <th>number_loans</th>\n",
       "      <th>job_category</th>\n",
       "      <th>dependents</th>\n",
       "      <th>telephone</th>\n",
       "      <th>foreign_worker</th>\n",
       "      <th>bad_credit</th>\n",
       "      <th>prediction_probs</th>\n",
       "      <th>predicted_credit</th>\n",
       "      <th>credit_actual</th>\n",
       "    </tr>\n",
       "  </thead>\n",
       "  <tbody>\n",
       "    <tr>\n",
       "      <th>541</th>\n",
       "      <td>9619216</td>\n",
       "      <td>&lt; 0 DM</td>\n",
       "      <td>0.006183</td>\n",
       "      <td>current loans paid</td>\n",
       "      <td>car (new)</td>\n",
       "      <td>0.999966</td>\n",
       "      <td>&lt; 100 DM</td>\n",
       "      <td>&gt;= 7 years</td>\n",
       "      <td>0.000515</td>\n",
       "      <td>male-single</td>\n",
       "      <td>...</td>\n",
       "      <td>for free</td>\n",
       "      <td>1</td>\n",
       "      <td>highly skilled</td>\n",
       "      <td>1</td>\n",
       "      <td>none</td>\n",
       "      <td>yes</td>\n",
       "      <td>1</td>\n",
       "      <td>0.764362</td>\n",
       "      <td>bad</td>\n",
       "      <td>bad</td>\n",
       "    </tr>\n",
       "    <tr>\n",
       "      <th>167</th>\n",
       "      <td>5749718</td>\n",
       "      <td>none</td>\n",
       "      <td>0.002015</td>\n",
       "      <td>current loans paid</td>\n",
       "      <td>furniture/equipment</td>\n",
       "      <td>0.999940</td>\n",
       "      <td>500 - 1000 DM</td>\n",
       "      <td>1 - 4 years</td>\n",
       "      <td>0.000336</td>\n",
       "      <td>male-single</td>\n",
       "      <td>...</td>\n",
       "      <td>own</td>\n",
       "      <td>1</td>\n",
       "      <td>skilled</td>\n",
       "      <td>1</td>\n",
       "      <td>yes</td>\n",
       "      <td>yes</td>\n",
       "      <td>0</td>\n",
       "      <td>0.214779</td>\n",
       "      <td>good</td>\n",
       "      <td>good</td>\n",
       "    </tr>\n",
       "    <tr>\n",
       "      <th>275</th>\n",
       "      <td>6752061</td>\n",
       "      <td>0 - 200 DM</td>\n",
       "      <td>0.003944</td>\n",
       "      <td>all loans at bank paid</td>\n",
       "      <td>car (new)</td>\n",
       "      <td>0.999988</td>\n",
       "      <td>unknown/none</td>\n",
       "      <td>unemployed</td>\n",
       "      <td>0.000329</td>\n",
       "      <td>male-single</td>\n",
       "      <td>...</td>\n",
       "      <td>for free</td>\n",
       "      <td>1</td>\n",
       "      <td>highly skilled</td>\n",
       "      <td>1</td>\n",
       "      <td>yes</td>\n",
       "      <td>yes</td>\n",
       "      <td>0</td>\n",
       "      <td>0.901767</td>\n",
       "      <td>bad</td>\n",
       "      <td>good</td>\n",
       "    </tr>\n",
       "    <tr>\n",
       "      <th>57</th>\n",
       "      <td>6134562</td>\n",
       "      <td>none</td>\n",
       "      <td>0.003763</td>\n",
       "      <td>critical account - other non-bank loans</td>\n",
       "      <td>radio/television</td>\n",
       "      <td>0.999988</td>\n",
       "      <td>&lt; 100 DM</td>\n",
       "      <td>1 - 4 years</td>\n",
       "      <td>0.000209</td>\n",
       "      <td>female-divorced/separated/married</td>\n",
       "      <td>...</td>\n",
       "      <td>own</td>\n",
       "      <td>2</td>\n",
       "      <td>skilled</td>\n",
       "      <td>1</td>\n",
       "      <td>none</td>\n",
       "      <td>yes</td>\n",
       "      <td>0</td>\n",
       "      <td>0.150272</td>\n",
       "      <td>good</td>\n",
       "      <td>good</td>\n",
       "    </tr>\n",
       "    <tr>\n",
       "      <th>414</th>\n",
       "      <td>2636238</td>\n",
       "      <td>none</td>\n",
       "      <td>0.004550</td>\n",
       "      <td>critical account - other non-bank loans</td>\n",
       "      <td>car (used)</td>\n",
       "      <td>0.999978</td>\n",
       "      <td>&lt; 100 DM</td>\n",
       "      <td>4 - 7 years</td>\n",
       "      <td>0.000414</td>\n",
       "      <td>male-single</td>\n",
       "      <td>...</td>\n",
       "      <td>own</td>\n",
       "      <td>2</td>\n",
       "      <td>highly skilled</td>\n",
       "      <td>1</td>\n",
       "      <td>yes</td>\n",
       "      <td>yes</td>\n",
       "      <td>0</td>\n",
       "      <td>0.042256</td>\n",
       "      <td>good</td>\n",
       "      <td>good</td>\n",
       "    </tr>\n",
       "    <tr>\n",
       "      <th>271</th>\n",
       "      <td>3892416</td>\n",
       "      <td>&lt; 0 DM</td>\n",
       "      <td>0.001559</td>\n",
       "      <td>current loans paid</td>\n",
       "      <td>car (new)</td>\n",
       "      <td>0.999986</td>\n",
       "      <td>&lt; 100 DM</td>\n",
       "      <td>&gt;= 7 years</td>\n",
       "      <td>0.000111</td>\n",
       "      <td>male-divorced/separated</td>\n",
       "      <td>...</td>\n",
       "      <td>own</td>\n",
       "      <td>1</td>\n",
       "      <td>highly skilled</td>\n",
       "      <td>1</td>\n",
       "      <td>yes</td>\n",
       "      <td>no</td>\n",
       "      <td>1</td>\n",
       "      <td>0.620726</td>\n",
       "      <td>bad</td>\n",
       "      <td>bad</td>\n",
       "    </tr>\n",
       "    <tr>\n",
       "      <th>650</th>\n",
       "      <td>7946983</td>\n",
       "      <td>&gt; 200 DM or salary assignment</td>\n",
       "      <td>0.025314</td>\n",
       "      <td>current loans paid</td>\n",
       "      <td>car (new)</td>\n",
       "      <td>0.998867</td>\n",
       "      <td>&lt; 100 DM</td>\n",
       "      <td>4 - 7 years</td>\n",
       "      <td>0.004219</td>\n",
       "      <td>male-single</td>\n",
       "      <td>...</td>\n",
       "      <td>for free</td>\n",
       "      <td>1</td>\n",
       "      <td>skilled</td>\n",
       "      <td>2</td>\n",
       "      <td>none</td>\n",
       "      <td>yes</td>\n",
       "      <td>1</td>\n",
       "      <td>0.602058</td>\n",
       "      <td>bad</td>\n",
       "      <td>bad</td>\n",
       "    </tr>\n",
       "    <tr>\n",
       "      <th>936</th>\n",
       "      <td>5171329</td>\n",
       "      <td>&gt; 200 DM or salary assignment</td>\n",
       "      <td>0.012071</td>\n",
       "      <td>current loans paid</td>\n",
       "      <td>radio/television</td>\n",
       "      <td>0.999214</td>\n",
       "      <td>&lt; 100 DM</td>\n",
       "      <td>1 - 4 years</td>\n",
       "      <td>0.004024</td>\n",
       "      <td>female-divorced/separated/married</td>\n",
       "      <td>...</td>\n",
       "      <td>own</td>\n",
       "      <td>1</td>\n",
       "      <td>unskilled-resident</td>\n",
       "      <td>1</td>\n",
       "      <td>none</td>\n",
       "      <td>yes</td>\n",
       "      <td>1</td>\n",
       "      <td>0.137689</td>\n",
       "      <td>good</td>\n",
       "      <td>bad</td>\n",
       "    </tr>\n",
       "    <tr>\n",
       "      <th>978</th>\n",
       "      <td>6097153</td>\n",
       "      <td>none</td>\n",
       "      <td>0.009454</td>\n",
       "      <td>past payment delays</td>\n",
       "      <td>car (new)</td>\n",
       "      <td>0.999783</td>\n",
       "      <td>&lt; 100 DM</td>\n",
       "      <td>&gt;= 7 years</td>\n",
       "      <td>0.001576</td>\n",
       "      <td>male-single</td>\n",
       "      <td>...</td>\n",
       "      <td>own</td>\n",
       "      <td>2</td>\n",
       "      <td>unskilled-resident</td>\n",
       "      <td>2</td>\n",
       "      <td>none</td>\n",
       "      <td>yes</td>\n",
       "      <td>1</td>\n",
       "      <td>0.568232</td>\n",
       "      <td>bad</td>\n",
       "      <td>bad</td>\n",
       "    </tr>\n",
       "    <tr>\n",
       "      <th>535</th>\n",
       "      <td>6996047</td>\n",
       "      <td>none</td>\n",
       "      <td>0.007981</td>\n",
       "      <td>past payment delays</td>\n",
       "      <td>car (used)</td>\n",
       "      <td>0.999593</td>\n",
       "      <td>&lt; 100 DM</td>\n",
       "      <td>1 - 4 years</td>\n",
       "      <td>0.002660</td>\n",
       "      <td>male-married/widowed</td>\n",
       "      <td>...</td>\n",
       "      <td>rent</td>\n",
       "      <td>1</td>\n",
       "      <td>skilled</td>\n",
       "      <td>1</td>\n",
       "      <td>none</td>\n",
       "      <td>yes</td>\n",
       "      <td>0</td>\n",
       "      <td>0.038390</td>\n",
       "      <td>good</td>\n",
       "      <td>good</td>\n",
       "    </tr>\n",
       "    <tr>\n",
       "      <th>961</th>\n",
       "      <td>6097436</td>\n",
       "      <td>0 - 200 DM</td>\n",
       "      <td>0.008923</td>\n",
       "      <td>past payment delays</td>\n",
       "      <td>car (new)</td>\n",
       "      <td>0.999761</td>\n",
       "      <td>&lt; 100 DM</td>\n",
       "      <td>1 - 4 years</td>\n",
       "      <td>0.000425</td>\n",
       "      <td>male-divorced/separated</td>\n",
       "      <td>...</td>\n",
       "      <td>own</td>\n",
       "      <td>2</td>\n",
       "      <td>skilled</td>\n",
       "      <td>1</td>\n",
       "      <td>none</td>\n",
       "      <td>yes</td>\n",
       "      <td>0</td>\n",
       "      <td>0.473226</td>\n",
       "      <td>good</td>\n",
       "      <td>good</td>\n",
       "    </tr>\n",
       "    <tr>\n",
       "      <th>922</th>\n",
       "      <td>4459246</td>\n",
       "      <td>&lt; 0 DM</td>\n",
       "      <td>0.006588</td>\n",
       "      <td>current loans paid</td>\n",
       "      <td>radio/television</td>\n",
       "      <td>0.999846</td>\n",
       "      <td>&lt; 100 DM</td>\n",
       "      <td>&lt; 1 year</td>\n",
       "      <td>0.002196</td>\n",
       "      <td>female-divorced/separated/married</td>\n",
       "      <td>...</td>\n",
       "      <td>rent</td>\n",
       "      <td>1</td>\n",
       "      <td>skilled</td>\n",
       "      <td>1</td>\n",
       "      <td>none</td>\n",
       "      <td>yes</td>\n",
       "      <td>1</td>\n",
       "      <td>0.199455</td>\n",
       "      <td>good</td>\n",
       "      <td>bad</td>\n",
       "    </tr>\n",
       "    <tr>\n",
       "      <th>371</th>\n",
       "      <td>9974040</td>\n",
       "      <td>&lt; 0 DM</td>\n",
       "      <td>0.010446</td>\n",
       "      <td>current loans paid</td>\n",
       "      <td>furniture/equipment</td>\n",
       "      <td>0.999871</td>\n",
       "      <td>&lt; 100 DM</td>\n",
       "      <td>&gt;= 7 years</td>\n",
       "      <td>0.001161</td>\n",
       "      <td>male-single</td>\n",
       "      <td>...</td>\n",
       "      <td>own</td>\n",
       "      <td>1</td>\n",
       "      <td>skilled</td>\n",
       "      <td>2</td>\n",
       "      <td>none</td>\n",
       "      <td>yes</td>\n",
       "      <td>1</td>\n",
       "      <td>0.402099</td>\n",
       "      <td>good</td>\n",
       "      <td>bad</td>\n",
       "    </tr>\n",
       "    <tr>\n",
       "      <th>954</th>\n",
       "      <td>7714243</td>\n",
       "      <td>&lt; 0 DM</td>\n",
       "      <td>0.006338</td>\n",
       "      <td>current loans paid</td>\n",
       "      <td>car (new)</td>\n",
       "      <td>0.999860</td>\n",
       "      <td>&lt; 100 DM</td>\n",
       "      <td>1 - 4 years</td>\n",
       "      <td>0.002113</td>\n",
       "      <td>female-divorced/separated/married</td>\n",
       "      <td>...</td>\n",
       "      <td>own</td>\n",
       "      <td>1</td>\n",
       "      <td>skilled</td>\n",
       "      <td>1</td>\n",
       "      <td>yes</td>\n",
       "      <td>yes</td>\n",
       "      <td>0</td>\n",
       "      <td>0.379845</td>\n",
       "      <td>good</td>\n",
       "      <td>good</td>\n",
       "    </tr>\n",
       "    <tr>\n",
       "      <th>332</th>\n",
       "      <td>1771168</td>\n",
       "      <td>0 - 200 DM</td>\n",
       "      <td>0.005616</td>\n",
       "      <td>current loans paid</td>\n",
       "      <td>radio/television</td>\n",
       "      <td>0.999634</td>\n",
       "      <td>&lt; 100 DM</td>\n",
       "      <td>&gt;= 7 years</td>\n",
       "      <td>0.003744</td>\n",
       "      <td>male-single</td>\n",
       "      <td>...</td>\n",
       "      <td>own</td>\n",
       "      <td>1</td>\n",
       "      <td>skilled</td>\n",
       "      <td>2</td>\n",
       "      <td>none</td>\n",
       "      <td>yes</td>\n",
       "      <td>0</td>\n",
       "      <td>0.118850</td>\n",
       "      <td>good</td>\n",
       "      <td>good</td>\n",
       "    </tr>\n",
       "    <tr>\n",
       "      <th>991</th>\n",
       "      <td>3956429</td>\n",
       "      <td>none</td>\n",
       "      <td>0.009558</td>\n",
       "      <td>all loans at bank paid</td>\n",
       "      <td>radio/television</td>\n",
       "      <td>0.999716</td>\n",
       "      <td>100 - 500 DM</td>\n",
       "      <td>&gt;= 7 years</td>\n",
       "      <td>0.002549</td>\n",
       "      <td>male-single</td>\n",
       "      <td>...</td>\n",
       "      <td>own</td>\n",
       "      <td>1</td>\n",
       "      <td>unskilled-resident</td>\n",
       "      <td>2</td>\n",
       "      <td>none</td>\n",
       "      <td>yes</td>\n",
       "      <td>0</td>\n",
       "      <td>0.574161</td>\n",
       "      <td>bad</td>\n",
       "      <td>good</td>\n",
       "    </tr>\n",
       "    <tr>\n",
       "      <th>708</th>\n",
       "      <td>6062683</td>\n",
       "      <td>0 - 200 DM</td>\n",
       "      <td>0.010679</td>\n",
       "      <td>current loans paid</td>\n",
       "      <td>business</td>\n",
       "      <td>0.999862</td>\n",
       "      <td>&lt; 100 DM</td>\n",
       "      <td>&lt; 1 year</td>\n",
       "      <td>0.001582</td>\n",
       "      <td>female-divorced/separated/married</td>\n",
       "      <td>...</td>\n",
       "      <td>own</td>\n",
       "      <td>1</td>\n",
       "      <td>skilled</td>\n",
       "      <td>2</td>\n",
       "      <td>yes</td>\n",
       "      <td>yes</td>\n",
       "      <td>0</td>\n",
       "      <td>0.348127</td>\n",
       "      <td>good</td>\n",
       "      <td>good</td>\n",
       "    </tr>\n",
       "    <tr>\n",
       "      <th>274</th>\n",
       "      <td>2081683</td>\n",
       "      <td>none</td>\n",
       "      <td>0.008556</td>\n",
       "      <td>critical account - other non-bank loans</td>\n",
       "      <td>furniture/equipment</td>\n",
       "      <td>0.999613</td>\n",
       "      <td>500 - 1000 DM</td>\n",
       "      <td>4 - 7 years</td>\n",
       "      <td>0.002139</td>\n",
       "      <td>female-divorced/separated/married</td>\n",
       "      <td>...</td>\n",
       "      <td>rent</td>\n",
       "      <td>1</td>\n",
       "      <td>skilled</td>\n",
       "      <td>1</td>\n",
       "      <td>yes</td>\n",
       "      <td>yes</td>\n",
       "      <td>0</td>\n",
       "      <td>0.111577</td>\n",
       "      <td>good</td>\n",
       "      <td>good</td>\n",
       "    </tr>\n",
       "    <tr>\n",
       "      <th>926</th>\n",
       "      <td>6172317</td>\n",
       "      <td>&lt; 0 DM</td>\n",
       "      <td>0.017153</td>\n",
       "      <td>critical account - other non-bank loans</td>\n",
       "      <td>furniture/equipment</td>\n",
       "      <td>0.999645</td>\n",
       "      <td>&lt; 100 DM</td>\n",
       "      <td>&lt; 1 year</td>\n",
       "      <td>0.003812</td>\n",
       "      <td>female-divorced/separated/married</td>\n",
       "      <td>...</td>\n",
       "      <td>rent</td>\n",
       "      <td>1</td>\n",
       "      <td>skilled</td>\n",
       "      <td>1</td>\n",
       "      <td>none</td>\n",
       "      <td>yes</td>\n",
       "      <td>0</td>\n",
       "      <td>0.454185</td>\n",
       "      <td>good</td>\n",
       "      <td>good</td>\n",
       "    </tr>\n",
       "    <tr>\n",
       "      <th>891</th>\n",
       "      <td>3755936</td>\n",
       "      <td>none</td>\n",
       "      <td>0.008198</td>\n",
       "      <td>critical account - other non-bank loans</td>\n",
       "      <td>radio/television</td>\n",
       "      <td>0.999648</td>\n",
       "      <td>&lt; 100 DM</td>\n",
       "      <td>&gt;= 7 years</td>\n",
       "      <td>0.002186</td>\n",
       "      <td>male-single</td>\n",
       "      <td>...</td>\n",
       "      <td>own</td>\n",
       "      <td>2</td>\n",
       "      <td>skilled</td>\n",
       "      <td>1</td>\n",
       "      <td>yes</td>\n",
       "      <td>yes</td>\n",
       "      <td>0</td>\n",
       "      <td>0.061873</td>\n",
       "      <td>good</td>\n",
       "      <td>good</td>\n",
       "    </tr>\n",
       "  </tbody>\n",
       "</table>\n",
       "<p>20 rows × 25 columns</p>\n",
       "</div>"
      ],
      "text/plain": [
       "     customer_id        checking_account_status  loan_duration_mo  \\\n",
       "541      9619216                         < 0 DM          0.006183   \n",
       "167      5749718                           none          0.002015   \n",
       "275      6752061                     0 - 200 DM          0.003944   \n",
       "57       6134562                           none          0.003763   \n",
       "414      2636238                           none          0.004550   \n",
       "271      3892416                         < 0 DM          0.001559   \n",
       "650      7946983  > 200 DM or salary assignment          0.025314   \n",
       "936      5171329  > 200 DM or salary assignment          0.012071   \n",
       "978      6097153                           none          0.009454   \n",
       "535      6996047                           none          0.007981   \n",
       "961      6097436                     0 - 200 DM          0.008923   \n",
       "922      4459246                         < 0 DM          0.006588   \n",
       "371      9974040                         < 0 DM          0.010446   \n",
       "954      7714243                         < 0 DM          0.006338   \n",
       "332      1771168                     0 - 200 DM          0.005616   \n",
       "991      3956429                           none          0.009558   \n",
       "708      6062683                     0 - 200 DM          0.010679   \n",
       "274      2081683                           none          0.008556   \n",
       "926      6172317                         < 0 DM          0.017153   \n",
       "891      3755936                           none          0.008198   \n",
       "\n",
       "                              credit_history              purpose  \\\n",
       "541                       current loans paid            car (new)   \n",
       "167                       current loans paid  furniture/equipment   \n",
       "275                   all loans at bank paid            car (new)   \n",
       "57   critical account - other non-bank loans     radio/television   \n",
       "414  critical account - other non-bank loans           car (used)   \n",
       "271                       current loans paid            car (new)   \n",
       "650                       current loans paid            car (new)   \n",
       "936                       current loans paid     radio/television   \n",
       "978                      past payment delays            car (new)   \n",
       "535                      past payment delays           car (used)   \n",
       "961                      past payment delays            car (new)   \n",
       "922                       current loans paid     radio/television   \n",
       "371                       current loans paid  furniture/equipment   \n",
       "954                       current loans paid            car (new)   \n",
       "332                       current loans paid     radio/television   \n",
       "991                   all loans at bank paid     radio/television   \n",
       "708                       current loans paid             business   \n",
       "274  critical account - other non-bank loans  furniture/equipment   \n",
       "926  critical account - other non-bank loans  furniture/equipment   \n",
       "891  critical account - other non-bank loans     radio/television   \n",
       "\n",
       "     loan_amount savings_account_balance time_employed_yrs  \\\n",
       "541     0.999966                < 100 DM        >= 7 years   \n",
       "167     0.999940           500 - 1000 DM       1 - 4 years   \n",
       "275     0.999988            unknown/none        unemployed   \n",
       "57      0.999988                < 100 DM       1 - 4 years   \n",
       "414     0.999978                < 100 DM       4 - 7 years   \n",
       "271     0.999986                < 100 DM        >= 7 years   \n",
       "650     0.998867                < 100 DM       4 - 7 years   \n",
       "936     0.999214                < 100 DM       1 - 4 years   \n",
       "978     0.999783                < 100 DM        >= 7 years   \n",
       "535     0.999593                < 100 DM       1 - 4 years   \n",
       "961     0.999761                < 100 DM       1 - 4 years   \n",
       "922     0.999846                < 100 DM          < 1 year   \n",
       "371     0.999871                < 100 DM        >= 7 years   \n",
       "954     0.999860                < 100 DM       1 - 4 years   \n",
       "332     0.999634                < 100 DM        >= 7 years   \n",
       "991     0.999716            100 - 500 DM        >= 7 years   \n",
       "708     0.999862                < 100 DM          < 1 year   \n",
       "274     0.999613           500 - 1000 DM       4 - 7 years   \n",
       "926     0.999645                < 100 DM          < 1 year   \n",
       "891     0.999648                < 100 DM        >= 7 years   \n",
       "\n",
       "     payment_pcnt_income                      gender_status  ...  \\\n",
       "541             0.000515                        male-single  ...   \n",
       "167             0.000336                        male-single  ...   \n",
       "275             0.000329                        male-single  ...   \n",
       "57              0.000209  female-divorced/separated/married  ...   \n",
       "414             0.000414                        male-single  ...   \n",
       "271             0.000111            male-divorced/separated  ...   \n",
       "650             0.004219                        male-single  ...   \n",
       "936             0.004024  female-divorced/separated/married  ...   \n",
       "978             0.001576                        male-single  ...   \n",
       "535             0.002660               male-married/widowed  ...   \n",
       "961             0.000425            male-divorced/separated  ...   \n",
       "922             0.002196  female-divorced/separated/married  ...   \n",
       "371             0.001161                        male-single  ...   \n",
       "954             0.002113  female-divorced/separated/married  ...   \n",
       "332             0.003744                        male-single  ...   \n",
       "991             0.002549                        male-single  ...   \n",
       "708             0.001582  female-divorced/separated/married  ...   \n",
       "274             0.002139  female-divorced/separated/married  ...   \n",
       "926             0.003812  female-divorced/separated/married  ...   \n",
       "891             0.002186                        male-single  ...   \n",
       "\n",
       "    home_ownership  number_loans        job_category  dependents telephone  \\\n",
       "541       for free             1      highly skilled           1      none   \n",
       "167            own             1             skilled           1       yes   \n",
       "275       for free             1      highly skilled           1       yes   \n",
       "57             own             2             skilled           1      none   \n",
       "414            own             2      highly skilled           1       yes   \n",
       "271            own             1      highly skilled           1       yes   \n",
       "650       for free             1             skilled           2      none   \n",
       "936            own             1  unskilled-resident           1      none   \n",
       "978            own             2  unskilled-resident           2      none   \n",
       "535           rent             1             skilled           1      none   \n",
       "961            own             2             skilled           1      none   \n",
       "922           rent             1             skilled           1      none   \n",
       "371            own             1             skilled           2      none   \n",
       "954            own             1             skilled           1       yes   \n",
       "332            own             1             skilled           2      none   \n",
       "991            own             1  unskilled-resident           2      none   \n",
       "708            own             1             skilled           2       yes   \n",
       "274           rent             1             skilled           1       yes   \n",
       "926           rent             1             skilled           1      none   \n",
       "891            own             2             skilled           1       yes   \n",
       "\n",
       "    foreign_worker  bad_credit prediction_probs  predicted_credit  \\\n",
       "541            yes           1         0.764362               bad   \n",
       "167            yes           0         0.214779              good   \n",
       "275            yes           0         0.901767               bad   \n",
       "57             yes           0         0.150272              good   \n",
       "414            yes           0         0.042256              good   \n",
       "271             no           1         0.620726               bad   \n",
       "650            yes           1         0.602058               bad   \n",
       "936            yes           1         0.137689              good   \n",
       "978            yes           1         0.568232               bad   \n",
       "535            yes           0         0.038390              good   \n",
       "961            yes           0         0.473226              good   \n",
       "922            yes           1         0.199455              good   \n",
       "371            yes           1         0.402099              good   \n",
       "954            yes           0         0.379845              good   \n",
       "332            yes           0         0.118850              good   \n",
       "991            yes           0         0.574161               bad   \n",
       "708            yes           0         0.348127              good   \n",
       "274            yes           0         0.111577              good   \n",
       "926            yes           0         0.454185              good   \n",
       "891            yes           0         0.061873              good   \n",
       "\n",
       "    credit_actual  \n",
       "541           bad  \n",
       "167          good  \n",
       "275          good  \n",
       "57           good  \n",
       "414          good  \n",
       "271           bad  \n",
       "650           bad  \n",
       "936           bad  \n",
       "978           bad  \n",
       "535          good  \n",
       "961          good  \n",
       "922           bad  \n",
       "371           bad  \n",
       "954          good  \n",
       "332          good  \n",
       "991          good  \n",
       "708          good  \n",
       "274          good  \n",
       "926          good  \n",
       "891          good  \n",
       "\n",
       "[20 rows x 25 columns]"
      ]
     },
     "execution_count": 8,
     "metadata": {},
     "output_type": "execute_result"
    }
   ],
   "source": [
    "import warnings  \n",
    "\n",
    "threshold = 0.5\n",
    "def score_model(df, model, threshold):\n",
    "    warnings.filterwarnings(\"ignore\")\n",
    "    df.loc[:,'prediction_probs'] = model.predict(df)\n",
    "    df.loc[:,'predicted_credit'] = ['bad' if x > threshold else 'good' for x in df.loc[:,'prediction_probs']]\n",
    "    df.loc[:,'credit_actual'] = ['bad' if x==1 else 'good' for x in df.loc[:,'bad_credit']]\n",
    "    warnings.resetwarnings()\n",
    "    return df\n",
    "\n",
    "credit_data_train = score_model(credit_data_train, glm_model, threshold)\n",
    "credit_data_train.head(20)"
   ]
  },
  {
   "cell_type": "markdown",
   "metadata": {},
   "source": [
    "Compare the `predicted_credit` and `credit_actual` columns. Notice that the prediction agrees with the actual value in several cases. However, there are incorrect predictions. Thinking in terms of a hypothesis test:   \n",
    "1. **Type I errors** occur when a true negative case is classified as positive. The null hypothesis is incorrectly rejected.   \n",
    "2. **Type II errors** occur when a true positive case is classified as negative. There is a failure to reject the null hypothesis.   "
   ]
  },
  {
   "cell_type": "markdown",
   "metadata": {},
   "source": [
    "> **Exercise 26-2:** For the training data you can create a plot to show the probabilities computed for each of the classes as follows:   \n",
    "> 1. Use the `seaborn.ecdfplot` function (empirical CDF) with `hue='bad_credit'`. \n",
    "> 2. Use the matplotlib axis returned to add a vertical red dotted line to the plot at the threshold value.  "
   ]
  },
  {
   "cell_type": "code",
   "execution_count": 9,
   "metadata": {},
   "outputs": [
    {
     "name": "stderr",
     "output_type": "stream",
     "text": [
      "C:\\USERS\\STEVEPC2\\ANACONDA3\\lib\\site-packages\\ipykernel\\ipkernel.py:287: DeprecationWarning: `should_run_async` will not call `transform_cell` automatically in the future. Please pass the result to `transformed_cell` argument and any exception that happen during thetransform in `preprocessing_exc_tuple` in IPython 7.17 and above.\n",
      "  and should_run_async(code)\n"
     ]
    },
    {
     "data": {
      "text/plain": [
       "<matplotlib.lines.Line2D at 0x25379a8e550>"
      ]
     },
     "execution_count": 9,
     "metadata": {},
     "output_type": "execute_result"
    },
    {
     "data": {
      "image/png": "[encoded data removed]",
      "text/plain": [
       "<Figure size 432x288 with 1 Axes>"
      ]
     },
     "metadata": {
      "needs_background": "light"
     },
     "output_type": "display_data"
    }
   ],
   "source": [
    "ax = sns.ecdfplot(x='prediction_probs', hue='bad_credit', data=credit_data_train)\n",
    "ax.axvline(0.5, color='red', linestyle='dotted')"
   ]
  },
  {
   "cell_type": "markdown",
   "metadata": {},
   "source": [
    "> Examine the plot you have created. The fractions of correct and incorrect classifications (decisions) can be read on the plot from the proportion above or below the crossing point with the threshold. For example, the number of Type II errors is proportion of the positive curve to the left of the threshold. Given the threshold value, do you expect a large number of Type II errors and a smaller number of Type I errors, and why?   \n",
    "> **End of exercise.**"
   ]
  },
  {
   "cell_type": "markdown",
   "metadata": {},
   "source": [
    "### Evaluating the model   \n",
    "\n",
    "How can we evaluate the performance of a classifier model? As with any statistical or machine learning model there is no one metric which can be considered 'best'. We will consider only a few of the possibilities here.  \n",
    "\n",
    "First, let us consider all the possible outcomes of the hypothesis test. \n",
    "\n",
    " - True Positives (TP): We predicted bad credit and the credit is bad.\n",
    " - True Negatives (TN): We predicted good credit and the credit is good.\n",
    " - False Positives (FP): We predicted bad credit but the credit was good; a Type I error.\n",
    " - False Negatives (FN): We predicted good credit but the credit was bad; a Type II error.\n",
    " \n",
    "For the Binomial case, we can lay these options out in a **truth table**, which is commonly called a **confusion matrix**:\n",
    " \n",
    " |  | Classified Positive | Classified Negative |\n",
    "| ---- | :---: | :---: |\n",
    "|Positive | TP | FN |  \n",
    "|Negative | FP | TN |\n",
    "\n",
    "Some commonly used metrics are computed directly from the foregoing quantities:\n",
    "\n",
    "- **Accuracy** = (TP + TN) / (TP + FP + TN + FN)\n",
    "- **Precision** = TP / (TP + FP)\n",
    "   - Precision is the correct fraction of the positive relevant class predictions.\n",
    "- **Recall** = TP / (TP + FN)\n",
    "   - Recall is the correct fraction of the relevant positive class members predicted.\n",
    "- **F1** = $\\frac{2\\ precision\\ recall}{precision + recall}$ = $\\frac{TP}{TP + 1/2(FP +FN)}$      \n",
    "   - Is the **harmonic mean** between precision and recall. In other words, a statistic which trades-offs precision and recall. \n",
    "   \n",
    "These metrics can be computed using the [sklearn.metrics](https://scikit-learn.org/stable/modules/model_evaluation.html#classification-metrics) package. In this case we use some of the classification metrics. Now, execute the code in the cell below to display performance metrics for the classifier model using the training data.    "
   ]
  },
  {
   "cell_type": "code",
   "execution_count": 10,
   "metadata": {},
   "outputs": [
    {
     "name": "stdout",
     "output_type": "stream",
     "text": [
      "                 Confusion matrix\n",
      "                 Score positive    Score negative\n",
      "Actual positive        70               106\n",
      "Actual negative        39               385\n",
      "\n",
      "Accuracy  0.76\n",
      " \n",
      "           Positive      Negative\n",
      "Num case      176           424\n",
      "Precision    0.64          0.78\n",
      "Recall       0.40          0.91\n",
      "F1           0.49          0.84\n"
     ]
    },
    {
     "name": "stderr",
     "output_type": "stream",
     "text": [
      "C:\\USERS\\STEVEPC2\\ANACONDA3\\lib\\site-packages\\ipykernel\\ipkernel.py:287: DeprecationWarning: `should_run_async` will not call `transform_cell` automatically in the future. Please pass the result to `transformed_cell` argument and any exception that happen during thetransform in `preprocessing_exc_tuple` in IPython 7.17 and above.\n",
      "  and should_run_async(code)\n"
     ]
    }
   ],
   "source": [
    "def print_metrics(df):\n",
    "    labels = df.loc[:,'credit_actual']\n",
    "    scores = df.loc[:,'predicted_credit']\n",
    "    metrics = sklm.precision_recall_fscore_support(labels, scores)\n",
    "    conf = sklm.confusion_matrix(labels, scores)\n",
    "    print('                 Confusion matrix')\n",
    "    print('                 Score positive    Score negative')\n",
    "    print('Actual positive    %6d' % conf[0,0] + '             %5d' % conf[0,1])\n",
    "    print('Actual negative    %6d' % conf[1,0] + '             %5d' % conf[1,1])\n",
    "    print('')\n",
    "    print('Accuracy  %0.2f' % sklm.accuracy_score(labels, scores))\n",
    "    print(' ')\n",
    "    print('           Positive      Negative')\n",
    "    print('Num case   %6d' % metrics[3][0] + '        %6d' % metrics[3][1])\n",
    "    print('Precision  %6.2f' % metrics[0][0] + '        %6.2f' % metrics[0][1])\n",
    "    print('Recall     %6.2f' % metrics[1][0] + '        %6.2f' % metrics[1][1])\n",
    "    print('F1         %6.2f' % metrics[2][0] + '        %6.2f' % metrics[2][1])\n",
    "    \n",
    "print_metrics(credit_data_train) "
   ]
  },
  {
   "cell_type": "markdown",
   "metadata": {},
   "source": [
    "Examine these metrics which can be interpreted as follows:   \n",
    "1. A perfect classifier would produce a confusion matrix with entries only on the diagonal; no errors. In this case, there are significant errors. The number of false positives compared to the total number of positives is relatively low. However, fewer that half of the positive cases have been correctly classified.    \n",
    "2. The overall accuracy of the model is reasonable.  \n",
    "3. However, the recall statistic shows a significant problem with the model. The positive case recall is only 0.40, consistent with the low fraction of the correctly classified positive cases.   \n",
    "4. Likewise, the precision is lower for positive cases as well.     \n",
    "\n",
    "In summary, the initial classifier model is ding a poor job of detecting bad credit cases. In part, this performance results from the imbalance between the number of positive and negative cases in the data set.    "
   ]
  },
  {
   "cell_type": "markdown",
   "metadata": {},
   "source": [
    "The evaluation of the model based on training data is undoubtedly biased, since this data was used to fit the model. Using the **held-back test data** is a more objective approach to model evaluation. Execute the code in the cell below to evaluated the model using the test data.       "
   ]
  },
  {
   "cell_type": "code",
   "execution_count": 11,
   "metadata": {},
   "outputs": [
    {
     "name": "stdout",
     "output_type": "stream",
     "text": [
      "                 Confusion matrix\n",
      "                 Score positive    Score negative\n",
      "Actual positive        37                87\n",
      "Actual negative        30               246\n",
      "\n",
      "Accuracy  0.71\n",
      " \n",
      "           Positive      Negative\n",
      "Num case      124           276\n",
      "Precision    0.55          0.74\n",
      "Recall       0.30          0.89\n",
      "F1           0.39          0.81\n"
     ]
    }
   ],
   "source": [
    "credit_data_test = score_model(credit_data_test, glm_model, threshold)\n",
    "print_metrics(credit_data_test) "
   ]
  },
  {
   "cell_type": "markdown",
   "metadata": {},
   "source": [
    "Overall, these results are consistent with those obtained using the training data. However, the results obtained with the test data are a bit worse than for the training data. This is expected, since the test data are a random sample of the original data.   "
   ]
  },
  {
   "cell_type": "markdown",
   "metadata": {},
   "source": [
    "### Finding a better threshold\n",
    "\n",
    "The forgoing results are not good. Since the choice of threshold was arbitrary, it is likely that another choice could yield better results. A hyperparameter search could find a threshold producing a better result.    \n",
    "\n",
    "The question is, which metric should be used to optimize model performance? Accuracy, can be misleading, particularly in cases with imbalanced label values. For this problem we will assume that the bank will be more concerned with identifying potential bad credit customers. These considerations make recall seem to be a reasonable metric. In this case we will use F1, since it trades-off precision and recall.        \n",
    "\n",
    "> **Exercise 26-3:** The code in the cell below performs a hyperparameter search of the cutoff threshold measured using the F1 score for the positive cases. Execute this code and examine the chart displayed.      "
   ]
  },
  {
   "cell_type": "code",
   "execution_count": 12,
   "metadata": {
    "scrolled": false
   },
   "outputs": [
    {
     "name": "stderr",
     "output_type": "stream",
     "text": [
      "C:\\USERS\\STEVEPC2\\ANACONDA3\\lib\\site-packages\\ipykernel\\ipkernel.py:287: DeprecationWarning: `should_run_async` will not call `transform_cell` automatically in the future. Please pass the result to `transformed_cell` argument and any exception that happen during thetransform in `preprocessing_exc_tuple` in IPython 7.17 and above.\n",
      "  and should_run_async(code)\n"
     ]
    },
    {
     "data": {
      "image/png": "[encoded data removed]",
      "text/plain": [
       "<Figure size 576x360 with 1 Axes>"
      ]
     },
     "metadata": {
      "needs_background": "light"
     },
     "output_type": "display_data"
    }
   ],
   "source": [
    "def threshold_test(model, df_train, df_test, thresholds, formula=formula):\n",
    "    '''Function that tests accuracy of classifier for different threshold values'''\n",
    "    accuracy_train = []\n",
    "    accuracy_test = []\n",
    "    for i,threshold in enumerate(thresholds):\n",
    "        ## Compute the training accuracy\n",
    "        df_train = score_model(df_train, model, threshold)\n",
    "        accuracy_train.append(sklm.precision_recall_fscore_support(df_test.loc[:,'credit_actual'], df_test.loc[:,'predicted_credit'])[2][0])\n",
    "        ## Then compute the test accuracy\n",
    "        df_test = score_model(df_test, model, threshold)\n",
    "        accuracy_test.append(sklm.precision_recall_fscore_support(df_test.loc[:,'credit_actual'], df_test.loc[:,'predicted_credit'])[2][0])      \n",
    "    return accuracy_train, accuracy_test\n",
    "\n",
    "\n",
    "def plot_thresholds(thresholds, accuracy_train, accuracy_test):\n",
    "    fig, ax = plt.subplots(figsize=(8, 5)) # define axis  \n",
    "    ax.plot(thresholds, accuracy_train, label='Training F1')\n",
    "    ax.plot(thresholds, accuracy_test, label='Test F1')\n",
    "    ax.set_ylabel('F1')\n",
    "    ax.set_xlabel('Threshold value')\n",
    "    ax.set_title('F1 vs. decision threshold')\n",
    "    plt.legend()\n",
    "    plt.show()\n",
    "    \n",
    "thresholds = np.arange(0.2, 0.8, step = 0.05)\n",
    "accuracy_train, accuracy_test = threshold_test(glm_model, credit_data_train, credit_data_test, thresholds)\n",
    "plot_thresholds(thresholds, accuracy_train, accuracy_test)    "
   ]
  },
  {
   "cell_type": "markdown",
   "metadata": {},
   "source": [
    "> Examine your plot. What does the decreasing F1 of the positive cases. What does this downward slope with threshold tell you about the trade-off between F1 and threshold. In particular, how is this trade-off dependent on the choice of solution to the problem at hand?    \n",
    "> **End of exercise.**    "
   ]
  },
  {
   "cell_type": "markdown",
   "metadata": {},
   "source": [
    "> **Exercise 26-4:** You will now test how the model evaluation changes with changing the threshold value to 0.35. While this choice is a bit arbitrary, the goal is to improve the performance at detecting positive cases at the expense of Type I errors with negative cases. Do the following:   \n",
    "> 1. In the first cell below set the threshold value, then score the model and print the metrics using the training data.  \n",
    "> 2. In the second cell below set the threshold value, then score the model and print the metrics using the test data.  "
   ]
  },
  {
   "cell_type": "code",
   "execution_count": 13,
   "metadata": {
    "scrolled": true
   },
   "outputs": [
    {
     "name": "stdout",
     "output_type": "stream",
     "text": [
      "                 Confusion matrix\n",
      "                 Score positive    Score negative\n",
      "Actual positive       113                63\n",
      "Actual negative        99               325\n",
      "\n",
      "Accuracy  0.73\n",
      " \n",
      "           Positive      Negative\n",
      "Num case      176           424\n",
      "Precision    0.53          0.84\n",
      "Recall       0.64          0.77\n",
      "F1           0.58          0.80\n"
     ]
    },
    {
     "name": "stderr",
     "output_type": "stream",
     "text": [
      "C:\\USERS\\STEVEPC2\\ANACONDA3\\lib\\site-packages\\ipykernel\\ipkernel.py:287: DeprecationWarning: `should_run_async` will not call `transform_cell` automatically in the future. Please pass the result to `transformed_cell` argument and any exception that happen during thetransform in `preprocessing_exc_tuple` in IPython 7.17 and above.\n",
      "  and should_run_async(code)\n"
     ]
    }
   ],
   "source": [
    "threshold=0.35\n",
    "credit_data_train = score_model(credit_data_train, glm_model, threshold)\n",
    "print_metrics(credit_data_train) "
   ]
  },
  {
   "cell_type": "code",
   "execution_count": 14,
   "metadata": {
    "scrolled": true
   },
   "outputs": [
    {
     "name": "stdout",
     "output_type": "stream",
     "text": [
      "                 Confusion matrix\n",
      "                 Score positive    Score negative\n",
      "Actual positive        61                63\n",
      "Actual negative        70               206\n",
      "\n",
      "Accuracy  0.67\n",
      " \n",
      "           Positive      Negative\n",
      "Num case      124           276\n",
      "Precision    0.47          0.77\n",
      "Recall       0.49          0.75\n",
      "F1           0.48          0.76\n"
     ]
    },
    {
     "name": "stderr",
     "output_type": "stream",
     "text": [
      "C:\\USERS\\STEVEPC2\\ANACONDA3\\lib\\site-packages\\ipykernel\\ipkernel.py:287: DeprecationWarning: `should_run_async` will not call `transform_cell` automatically in the future. Please pass the result to `transformed_cell` argument and any exception that happen during thetransform in `preprocessing_exc_tuple` in IPython 7.17 and above.\n",
      "  and should_run_async(code)\n"
     ]
    }
   ],
   "source": [
    "credit_data_test = score_model(credit_data_test, glm_model, threshold)\n",
    "print_metrics(credit_data_test) "
   ]
  },
  {
   "cell_type": "markdown",
   "metadata": {},
   "source": [
    "> Compare the performance metrics for the training and testing data of the original threshold value of 0.5 with those of the updated threshold of 0.35.   \n",
    "> 1. How have the errors shown in the confusion matrices changed?   \n",
    "> 2. How have the recall and precision changed between the positive and negative cases changed and what does this tell you about the trade-off between Type I and Type II errors.  \n",
    "> **End of exercise.**"
   ]
  },
  {
   "cell_type": "markdown",
   "metadata": {},
   "source": [
    "For the testing data the plot below shows the probabilities computed for each of the classes using the testing data. This plot is the same type you created in Exercise 26-2.   "
   ]
  },
  {
   "cell_type": "code",
   "execution_count": 15,
   "metadata": {},
   "outputs": [
    {
     "name": "stderr",
     "output_type": "stream",
     "text": [
      "C:\\USERS\\STEVEPC2\\ANACONDA3\\lib\\site-packages\\ipykernel\\ipkernel.py:287: DeprecationWarning: `should_run_async` will not call `transform_cell` automatically in the future. Please pass the result to `transformed_cell` argument and any exception that happen during thetransform in `preprocessing_exc_tuple` in IPython 7.17 and above.\n",
      "  and should_run_async(code)\n"
     ]
    },
    {
     "data": {
      "text/plain": [
       "<matplotlib.lines.Line2D at 0x2537b2394a8>"
      ]
     },
     "execution_count": 15,
     "metadata": {},
     "output_type": "execute_result"
    },
    {
     "data": {
      "image/png": "[encoded data removed]",
      "text/plain": [
       "<Figure size 432x288 with 1 Axes>"
      ]
     },
     "metadata": {
      "needs_background": "light"
     },
     "output_type": "display_data"
    }
   ],
   "source": [
    "ax = sns.ecdfplot(x='prediction_probs', hue='bad_credit', data=credit_data_train) \n",
    "ax.axvline(0.35, color='red', linestyle='dotted')"
   ]
  },
  {
   "cell_type": "markdown",
   "metadata": {},
   "source": [
    "Compare this plot the one created in Exercise 26-2. Notice how the number of Type II errors arising from the positive case curve will be lower. This improvement is at the expense of Type I errors arising from the negative curve.  "
   ]
  },
  {
   "cell_type": "markdown",
   "metadata": {},
   "source": [
    "### Applying regularization      \n",
    "\n",
    "So far, we have been working with an over-fit model. Now we will explore the application of regularization to the model. The code in the cell below computes the training and test F1 statistics of the model as a function of the elastic net regularization parameter $\\alpha$. The training and test F1 statistics are then plotted as a function of $\\alpha$. Execute this code to execute the computation and display the plot.      "
   ]
  },
  {
   "cell_type": "code",
   "execution_count": 20,
   "metadata": {
    "scrolled": false
   },
   "outputs": [
    {
     "data": {
      "image/png": "[encoded data removed]",
      "text/plain": [
       "<Figure size 864x360 with 2 Axes>"
      ]
     },
     "metadata": {
      "needs_background": "light"
     },
     "output_type": "display_data"
    }
   ],
   "source": [
    "def regularized_coefs(df_train, df_test, alphas, n_coefs=31,\n",
    "                      formula = formula, threshold=threshold):\n",
    "    '''Function that computes a linear model for each value of the regualarization \n",
    "    parameter alpha and returns an array of the coefficient values. The L1_wt \n",
    "    determines the trade-off between L1 and L2 regualarization'''\n",
    "    coefs = np.zeros((len(alphas),n_coefs + 1))\n",
    "    accuracy_train = []\n",
    "    accuracy_test = []\n",
    "    for i,alpha in enumerate(alphas):\n",
    "        ## First compute the training MSE\n",
    "        #### Complete the line of code below\n",
    "        temp_mod = smf.glm(formula, data=df_train).fit_regularized(method='elastic_net', alpha=alpha)\n",
    "        ## Compute the training accuracy\n",
    "        df_train = score_model(df_train, temp_mod, threshold)\n",
    "        coefs[i,:] = temp_mod.params\n",
    "        # accuracy_train.append(sklm.accuracy_score(df_test.loc[:,'credit_actual'], df_test.loc[:,'predicted_credit']))\n",
    "        accuracy_train.append(sklm.precision_recall_fscore_support(df_test.loc[:,'credit_actual'], df_test.loc[:,'predicted_credit'])[2][0])\n",
    "        ## Then compute the test accuracy\n",
    "        df_test = score_model(df_test, temp_mod, threshold)\n",
    "#        accuracy_test.append(sklm.accuracy_score(df_test.loc[:,'credit_actual'], df_test.loc[:,'predicted_credit'])) \n",
    "        accuracy_test.append(sklm.precision_recall_fscore_support(df_test.loc[:,'credit_actual'], df_test.loc[:,'predicted_credit'])[2][0])      \n",
    "    return coefs, accuracy_train, accuracy_test\n",
    "\n",
    "\n",
    "def plot_coefs(coefs, alphas, accuracy_train, accuracy_test, ylim=None):\n",
    "    fig, ax = plt.subplots(1,2, figsize=(12, 5)) # define axis\n",
    "    for i in range(coefs.shape[1]): # Iterate over coefficients\n",
    "        ax[0].plot(alphas, coefs[:,i])\n",
    "    ax[0].axhline(0.0, color='red', linestyle='--', linewidth=0.5)\n",
    "    ax[0].set_ylabel('Partial slope values')\n",
    "    ax[0].set_xlabel('alpha')\n",
    "    ax[0].set_title('Parial slope values vs. regularization parameter number')\n",
    "    if ylim is not None: ax[0].set_ylim(ylim)\n",
    "    \n",
    "    ax[1].plot(alphas, accuracy_train, label='Training F1')\n",
    "    ax[1].plot(alphas, accuracy_test, label='Test F1')\n",
    "    ax[1].set_ylabel('F1')\n",
    "    ax[1].set_xlabel('alpha')\n",
    "    ax[1].set_title('F1 vs. regularization parameter')\n",
    "    plt.legend()\n",
    "    plt.show()   \n",
    "    \n",
    "threshold = 0.35\n",
    "alphas = np.arange(0.0, 0.002, step = 0.00005)\n",
    "#alphas = np.arange(0.0, 0.05, step = 0.0005)\n",
    "Betas, accuracy_train, accuracy_test = regularized_coefs(credit_data_train, credit_data_test, alphas)\n",
    "plot_coefs(Betas, alphas, accuracy_train, accuracy_test, ylim=[-0.3,0.5])    "
   ]
  },
  {
   "cell_type": "markdown",
   "metadata": {},
   "source": [
    "The results are a bit erratic looking, but consistent with what is expected. The model coefficients can been seen being constrained and in some cases driven toward 0 by the elastic net regularization as the hyperparameter increases. The curve of the training and test errors is rather jagged. However, one can see that a reasonable choice of hyperparameter is around 0.0007.    "
   ]
  },
  {
   "cell_type": "markdown",
   "metadata": {},
   "source": [
    "> **Exercise 26-5:** Using the regularization parameter identified and the threshold value of 0.35 you will now evaluated the model. In the cells below you will create and execute code to evaluate the model using first the training data and then the testing data by these steps:   \n",
    "> 1. Fit the glm model using elastic net regularization and $\\alpha = 0.0007$. You should fit the model once with the training data.   \n",
    "> 2. Score the model using $threshold = 0.35$ using either the training of testing data.   \n",
    "> 3. Compute and print the model evaluation metrics.  "
   ]
  },
  {
   "cell_type": "code",
   "execution_count": 21,
   "metadata": {
    "scrolled": true
   },
   "outputs": [
    {
     "name": "stderr",
     "output_type": "stream",
     "text": [
      "C:\\USERS\\STEVEPC2\\ANACONDA3\\lib\\site-packages\\ipykernel\\ipkernel.py:287: DeprecationWarning: `should_run_async` will not call `transform_cell` automatically in the future. Please pass the result to `transformed_cell` argument and any exception that happen during thetransform in `preprocessing_exc_tuple` in IPython 7.17 and above.\n",
      "  and should_run_async(code)\n"
     ]
    },
    {
     "name": "stdout",
     "output_type": "stream",
     "text": [
      "                 Confusion matrix\n",
      "                 Score positive    Score negative\n",
      "Actual positive       117                59\n",
      "Actual negative       111               313\n",
      "\n",
      "Accuracy  0.72\n",
      " \n",
      "           Positive      Negative\n",
      "Num case      176           424\n",
      "Precision    0.51          0.84\n",
      "Recall       0.66          0.74\n",
      "F1           0.58          0.79\n"
     ]
    }
   ],
   "source": [
    "glm_model_regularized = smf.glm(formula, data=credit_data_train).fit_regularized(method='elastic_net', alpha=0.0007)\n",
    "credit_data_train = score_model(credit_data_train, glm_model_regularized, threshold)\n",
    "print_metrics(credit_data_train) "
   ]
  },
  {
   "cell_type": "code",
   "execution_count": 22,
   "metadata": {
    "scrolled": true
   },
   "outputs": [
    {
     "name": "stdout",
     "output_type": "stream",
     "text": [
      "                 Confusion matrix\n",
      "                 Score positive    Score negative\n",
      "Actual positive        62                62\n",
      "Actual negative        71               205\n",
      "\n",
      "Accuracy  0.67\n",
      " \n",
      "           Positive      Negative\n",
      "Num case      124           276\n",
      "Precision    0.47          0.77\n",
      "Recall       0.50          0.74\n",
      "F1           0.48          0.76\n"
     ]
    },
    {
     "name": "stderr",
     "output_type": "stream",
     "text": [
      "C:\\USERS\\STEVEPC2\\ANACONDA3\\lib\\site-packages\\ipykernel\\ipkernel.py:287: DeprecationWarning: `should_run_async` will not call `transform_cell` automatically in the future. Please pass the result to `transformed_cell` argument and any exception that happen during thetransform in `preprocessing_exc_tuple` in IPython 7.17 and above.\n",
      "  and should_run_async(code)\n"
     ]
    }
   ],
   "source": [
    "credit_data_test = score_model(credit_data_test, glm_model_regularized, threshold)\n",
    "print_metrics(credit_data_test) "
   ]
  },
  {
   "cell_type": "markdown",
   "metadata": {},
   "source": [
    "> The goal of regularization is not to improve model training performance, but rather to improve generalization performance. Keeping the foregoing in mind, compare the performance metrics for the training and testing data of the OLS model with threshold value of 0.35 with those of the regularized model.   \n",
    "> 1. How have the errors shown in the confusion matrices changed for either the training of testing data in a way that would indicate model performance is significantly reduced?   \n",
    "> 2. How have the recall and precision changed between the positive and negative cases changed and what does this tell about changes in Type I and Type II errors when regularization is applied.\n",
    "> **End of exercise.**"
   ]
  },
  {
   "cell_type": "markdown",
   "metadata": {},
   "source": [
    "> **Exercise 26-6:** as a final step in comparing the coefficients of the OLS and regularized models. Execute the code in the cell below to display the coefficient values for the regularized model."
   ]
  },
  {
   "cell_type": "code",
   "execution_count": 19,
   "metadata": {},
   "outputs": [
    {
     "name": "stderr",
     "output_type": "stream",
     "text": [
      "C:\\USERS\\STEVEPC2\\ANACONDA3\\lib\\site-packages\\ipykernel\\ipkernel.py:287: DeprecationWarning: `should_run_async` will not call `transform_cell` automatically in the future. Please pass the result to `transformed_cell` argument and any exception that happen during thetransform in `preprocessing_exc_tuple` in IPython 7.17 and above.\n",
      "  and should_run_async(code)\n"
     ]
    },
    {
     "data": {
      "text/plain": [
       "Intercept                                                       0.450441\n",
       "C(credit_history)[T.critical account - other non-bank loans]   -0.207493\n",
       "C(credit_history)[T.current loans paid]                        -0.092036\n",
       "C(credit_history)[T.no credit - paid]                           0.138309\n",
       "C(credit_history)[T.past payment delays]                        0.000000\n",
       "C(purpose)[T.car (new)]                                         0.165919\n",
       "C(purpose)[T.car (used)]                                       -0.142575\n",
       "C(purpose)[T.domestic appliances]                               0.230394\n",
       "C(purpose)[T.education]                                         0.143135\n",
       "C(purpose)[T.furniture/equipment]                               0.111549\n",
       "C(purpose)[T.other]                                             0.069040\n",
       "C(purpose)[T.radio/television]                                 -0.026509\n",
       "C(purpose)[T.repairs]                                          -0.027351\n",
       "C(purpose)[T.retraining]                                       -0.211935\n",
       "C(gender_status)[T.male-divorced/separated]                     0.086556\n",
       "C(gender_status)[T.male-married/widowed]                       -0.040779\n",
       "C(gender_status)[T.male-single]                                -0.064629\n",
       "C(time_employed_yrs)[T.4 - 7 years]                            -0.051609\n",
       "C(time_employed_yrs)[T.< 1 year]                                0.063406\n",
       "C(time_employed_yrs)[T.>= 7 years]                             -0.018364\n",
       "C(time_employed_yrs)[T.unemployed]                              0.085497\n",
       "C(other_credit_outstanding)[T.none]                            -0.072905\n",
       "C(other_credit_outstanding)[T.stores]                           0.000000\n",
       "C(property)[T.car or other]                                     0.059482\n",
       "C(property)[T.real estate]                                     -0.048511\n",
       "C(property)[T.unknown-none]                                     0.156437\n",
       "C(job_category)[T.skilled]                                     -0.081731\n",
       "C(job_category)[T.unemployed-unskilled-non-resident]           -0.175770\n",
       "C(job_category)[T.unskilled-resident]                           0.000000\n",
       "loan_duration_mo                                                9.726887\n",
       "payment_pcnt_income                                             0.000000\n",
       "age_yrs                                                        -3.562785\n",
       "dtype: float64"
      ]
     },
     "execution_count": 19,
     "metadata": {},
     "output_type": "execute_result"
    }
   ],
   "source": [
    "glm_model_regularized.params"
   ]
  },
  {
   "cell_type": "markdown",
   "metadata": {},
   "source": [
    "> Compare these coefficient values to the ones displayed by the summary method for the OLS model.    \n",
    "> 1. How well are the few very large coefficient values computed for the OLS model constrained by the regularization. Pay particular attention to the coefficients of the numeric variables and at least one categorical dummy variable?  \n",
    "> 2. Are some of the coefficients for both numeric and categorical dummy variables pushed to exactly zero, and what does this tell you about model selection? "
   ]
  },
  {
   "cell_type": "markdown",
   "metadata": {
    "collapsed": true
   },
   "source": [
    "#### Copyright 2017, 2018, 2019, 2020, 2021 Stephen F Elston. All rights reserved. "
   ]
  },
  {
   "cell_type": "code",
   "execution_count": null,
   "metadata": {},
   "outputs": [],
   "source": []
  }
 ],
 "metadata": {
  "anaconda-cloud": {},
  "kernelspec": {
   "display_name": "Python 3",
   "language": "python",
   "name": "python3"
  },
  "language_info": {
   "codemirror_mode": {
    "name": "ipython",
    "version": 3
   },
   "file_extension": ".py",
   "mimetype": "text/x-python",
   "name": "python",
   "nbconvert_exporter": "python",
   "pygments_lexer": "ipython3",
   "version": "3.7.3"
  }
 },
 "nbformat": 4,
 "nbformat_minor": 1
}
